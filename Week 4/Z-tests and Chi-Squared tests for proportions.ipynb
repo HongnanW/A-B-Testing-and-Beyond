{
 "cells": [
  {
   "cell_type": "code",
   "execution_count": 71,
   "metadata": {
    "collapsed": false
   },
   "outputs": [],
   "source": [
    "# Preliminaries needed for Python and to run R within a Python notebook\n",
    "import rpy2.rinterface\n",
    "%load_ext rpy2.ipython "
   ]
  },
  {
   "cell_type": "markdown",
   "metadata": {},
   "source": [
    "## Revisiting the Optimizely Example"
   ]
  },
  {
   "cell_type": "markdown",
   "metadata": {},
   "source": [
    "Here we illustrate how to use $Z$-tests and $\\chi^2$-tests to compare proportions using both R and Python. We do so in the context of the Optimizely data we discussed last week. Recall that $n_1=8872$ and $n_2=8642$ users were respectively shown original vs. new versions of their webpage, and in each condition 280 and 399 users respectively signed up for memberships."
   ]
  },
  {
   "cell_type": "markdown",
   "metadata": {},
   "source": [
    "## Z-test in R:\n",
    "Unfortunately we have to do this manually. There is no built-in test in base R that automates the Z-test for proportions."
   ]
  },
  {
   "cell_type": "code",
   "execution_count": 39,
   "metadata": {
    "collapsed": false
   },
   "outputs": [
    {
     "data": {
      "text/plain": [
       "[1] \"test statistic = -5.00744847893718\"\n"
      ]
     },
     "metadata": {},
     "output_type": "display_data"
    }
   ],
   "source": [
    "%%R\n",
    "n1 <- 8872\n",
    "n2 <- 8642\n",
    "pi1 <- 280/n1\n",
    "pi2 <- 399/n2\n",
    "pi <- (280+399)/(n1+n2)\n",
    "t <- (pi1-pi2)/sqrt(pi*(1-pi)*((1/n1)+(1/n2)))\n",
    "print(paste(\"test statistic = \", t, sep = \"\"))"
   ]
  },
  {
   "cell_type": "markdown",
   "metadata": {},
   "source": [
    "$$H_0: \\pi_1=\\pi_2 \\text{ vs. } H_A: \\pi_1 \\neq \\pi_2$$"
   ]
  },
  {
   "cell_type": "code",
   "execution_count": 7,
   "metadata": {
    "collapsed": false
   },
   "outputs": [
    {
     "data": {
      "text/plain": [
       "[1] \"p-value = 5.51563087203277e-07\"\n"
      ]
     },
     "metadata": {},
     "output_type": "display_data"
    }
   ],
   "source": [
    "%%R\n",
    "p_val <- 2*(1-pnorm(abs(t)))\n",
    "print(paste(\"p-value = \", p_val, sep = \"\"))"
   ]
  },
  {
   "cell_type": "markdown",
   "metadata": {},
   "source": [
    "$$H_0: \\pi_1 \\leq \\pi_2 \\text{ vs. } H_A: \\pi_1 > \\pi_2$$"
   ]
  },
  {
   "cell_type": "code",
   "execution_count": 8,
   "metadata": {
    "collapsed": false
   },
   "outputs": [
    {
     "data": {
      "text/plain": [
       "[1] \"p-value = 0.999999724218456\"\n"
      ]
     },
     "metadata": {},
     "output_type": "display_data"
    }
   ],
   "source": [
    "%%R\n",
    "p_val <- 1-pnorm(t)\n",
    "print(paste(\"p-value = \", p_val, sep = \"\"))"
   ]
  },
  {
   "cell_type": "markdown",
   "metadata": {},
   "source": [
    "$$H_0: \\pi_1 \\geq \\pi_2 \\text{ vs. } H_A: \\pi_1 < \\pi_2$$"
   ]
  },
  {
   "cell_type": "code",
   "execution_count": 9,
   "metadata": {
    "collapsed": false
   },
   "outputs": [
    {
     "data": {
      "text/plain": [
       "[1] \"p-value = 2.75781543633126e-07\"\n"
      ]
     },
     "metadata": {},
     "output_type": "display_data"
    }
   ],
   "source": [
    "%%R\n",
    "p_val <- pnorm(t)\n",
    "print(paste(\"p-value = \", p_val, sep = \"\"))"
   ]
  },
  {
   "cell_type": "markdown",
   "metadata": {},
   "source": [
    "## $\\chi^2$-test in R:\n",
    "Now let's perform the exact same tests but from the perspective of a $\\chi^2$-test.\n",
    "$$H_0: \\pi_1=\\pi_2 \\text{ vs. } H_A: \\pi_1 \\neq \\pi_2$$"
   ]
  },
  {
   "cell_type": "code",
   "execution_count": 10,
   "metadata": {
    "collapsed": false
   },
   "outputs": [
    {
     "data": {
      "text/plain": [
       "\n",
       "\t2-sample test for equality of proportions without continuity\n",
       "\tcorrection\n",
       "\n",
       "data:  c(280, 399) out of c(8872, 8642)\n",
       "X-squared = 25.075, df = 1, p-value = 5.516e-07\n",
       "alternative hypothesis: two.sided\n",
       "95 percent confidence interval:\n",
       " -0.020337838 -0.008881971\n",
       "sample estimates:\n",
       "    prop 1     prop 2 \n",
       "0.03155996 0.04616987 \n",
       "\n"
      ]
     },
     "metadata": {},
     "output_type": "display_data"
    }
   ],
   "source": [
    "%%R\n",
    "prop.test(x = c(280, 399), n = c(8872, 8642), alternative = \"two.sided\", correct = FALSE)"
   ]
  },
  {
   "cell_type": "markdown",
   "metadata": {},
   "source": [
    "$$H_0: \\pi_1 \\leq \\pi_2 \\text{ vs. } H_A: \\pi_1 > \\pi_2$$"
   ]
  },
  {
   "cell_type": "code",
   "execution_count": 11,
   "metadata": {
    "collapsed": false
   },
   "outputs": [
    {
     "data": {
      "text/plain": [
       "\n",
       "\t2-sample test for equality of proportions without continuity\n",
       "\tcorrection\n",
       "\n",
       "data:  c(280, 399) out of c(8872, 8642)\n",
       "X-squared = 25.075, df = 1, p-value = 1\n",
       "alternative hypothesis: greater\n",
       "95 percent confidence interval:\n",
       " -0.01941694  1.00000000\n",
       "sample estimates:\n",
       "    prop 1     prop 2 \n",
       "0.03155996 0.04616987 \n",
       "\n"
      ]
     },
     "metadata": {},
     "output_type": "display_data"
    }
   ],
   "source": [
    "%%R\n",
    "prop.test(x = c(280, 399), n = c(8872, 8642), alternative = \"greater\", correct = FALSE)"
   ]
  },
  {
   "cell_type": "markdown",
   "metadata": {},
   "source": [
    "$$H_0: \\pi_1 \\geq \\pi_2 \\text{ vs. } H_A: \\pi_1 < \\pi_2$$"
   ]
  },
  {
   "cell_type": "code",
   "execution_count": 12,
   "metadata": {
    "collapsed": false
   },
   "outputs": [
    {
     "data": {
      "text/plain": [
       "\n",
       "\t2-sample test for equality of proportions without continuity\n",
       "\tcorrection\n",
       "\n",
       "data:  c(280, 399) out of c(8872, 8642)\n",
       "X-squared = 25.075, df = 1, p-value = 2.758e-07\n",
       "alternative hypothesis: less\n",
       "95 percent confidence interval:\n",
       " -1.000000000 -0.009802871\n",
       "sample estimates:\n",
       "    prop 1     prop 2 \n",
       "0.03155996 0.04616987 \n",
       "\n"
      ]
     },
     "metadata": {},
     "output_type": "display_data"
    }
   ],
   "source": [
    "%%R\n",
    "prop.test(x = c(280, 399), n = c(8872, 8642), alternative = \"less\", correct = FALSE)"
   ]
  },
  {
   "cell_type": "markdown",
   "metadata": {},
   "source": [
    "## Z-test in Python:"
   ]
  },
  {
   "cell_type": "code",
   "execution_count": 22,
   "metadata": {
    "collapsed": false
   },
   "outputs": [],
   "source": [
    "## Import necessary packages\n",
    "import scipy.stats as sp\n",
    "import numpy as np"
   ]
  },
  {
   "cell_type": "markdown",
   "metadata": {},
   "source": [
    "As in the R example, we'll do this manually."
   ]
  },
  {
   "cell_type": "code",
   "execution_count": 52,
   "metadata": {
    "collapsed": false
   },
   "outputs": [
    {
     "name": "stdout",
     "output_type": "stream",
     "text": [
      "test statistic = -5.00744847894\n"
     ]
    }
   ],
   "source": [
    "n1 = 8872\n",
    "n2 = 8642\n",
    "pi1 = 280/n1\n",
    "pi2 = 399/n2\n",
    "pi = (280+399)/(n1+n2)\n",
    "t = (pi1-pi2)/np.sqrt(pi*(1-pi)*((1/n1)+(1/n2)))\n",
    "print(\"test statistic =\", t)"
   ]
  },
  {
   "cell_type": "markdown",
   "metadata": {},
   "source": [
    "$$H_0: \\pi_1=\\pi_2 \\text{ vs. } H_A: \\pi_1 \\neq \\pi_2$$"
   ]
  },
  {
   "cell_type": "code",
   "execution_count": 53,
   "metadata": {
    "collapsed": false
   },
   "outputs": [
    {
     "name": "stdout",
     "output_type": "stream",
     "text": [
      "p-value = 5.51563087203e-07\n"
     ]
    }
   ],
   "source": [
    "p_val = 2*(1-sp.norm.cdf(np.abs(t)))\n",
    "print(\"p-value =\", p_val)"
   ]
  },
  {
   "cell_type": "markdown",
   "metadata": {},
   "source": [
    "$$H_0: \\pi_1 \\leq \\pi_2 \\text{ vs. } H_A: \\pi_1 > \\pi_2$$"
   ]
  },
  {
   "cell_type": "code",
   "execution_count": 55,
   "metadata": {
    "collapsed": false
   },
   "outputs": [
    {
     "name": "stdout",
     "output_type": "stream",
     "text": [
      "p-value = 0.999999724218\n"
     ]
    }
   ],
   "source": [
    "p_val = 1-sp.norm.cdf(t)\n",
    "print(\"p-value =\", p_val)"
   ]
  },
  {
   "cell_type": "markdown",
   "metadata": {},
   "source": [
    "$$H_0: \\pi_1 \\geq \\pi_2 \\text{ vs. } H_A: \\pi_1 < \\pi_2$$"
   ]
  },
  {
   "cell_type": "code",
   "execution_count": 56,
   "metadata": {
    "collapsed": false
   },
   "outputs": [
    {
     "name": "stdout",
     "output_type": "stream",
     "text": [
      "p-value = 2.75781543633e-07\n"
     ]
    }
   ],
   "source": [
    "p_val = sp.norm.cdf(t)\n",
    "print(\"p-value =\", p_val)"
   ]
  },
  {
   "cell_type": "markdown",
   "metadata": {},
   "source": [
    "## $\\chi^2$-test in Python:\n",
    "Now let's perform the exact same tests but from the perspective of a $\\chi^2$-test. We will use the `chi2_contingency` function in the `scipy.stats` package. This function only calculates p-values for two-sided tests, so we will have to manually translate these p-values to be applicable for each of the one-sided alternatives.\n",
    "$$H_0: \\pi_1=\\pi_2 \\text{ vs. } H_A: \\pi_1 \\neq \\pi_2$$"
   ]
  },
  {
   "cell_type": "code",
   "execution_count": 67,
   "metadata": {
    "collapsed": false
   },
   "outputs": [
    {
     "name": "stdout",
     "output_type": "stream",
     "text": [
      "test statistic = 25.0745402692\n",
      "p-value = 5.51563087266e-07\n"
     ]
    }
   ],
   "source": [
    "t, p, df, exp = sp.chi2_contingency([[280, 399],[8592, 8243]], correction= False)\n",
    "print(\"test statistic =\", t)\n",
    "print(\"p-value =\", p)"
   ]
  },
  {
   "cell_type": "markdown",
   "metadata": {},
   "source": [
    "$$H_0: \\pi_1 \\leq \\pi_2 \\text{ vs. } H_A: \\pi_1 > \\pi_2$$"
   ]
  },
  {
   "cell_type": "code",
   "execution_count": 68,
   "metadata": {
    "collapsed": false
   },
   "outputs": [
    {
     "name": "stdout",
     "output_type": "stream",
     "text": [
      "p-value = 0.999999724218\n"
     ]
    }
   ],
   "source": [
    "print(\"p-value =\", 1-p/2)"
   ]
  },
  {
   "cell_type": "markdown",
   "metadata": {},
   "source": [
    "$$H_0: \\pi_1 \\geq \\pi_2 \\text{ vs. } H_A: \\pi_1 < \\pi_2$$"
   ]
  },
  {
   "cell_type": "code",
   "execution_count": 69,
   "metadata": {
    "collapsed": false
   },
   "outputs": [
    {
     "name": "stdout",
     "output_type": "stream",
     "text": [
      "p-value = 2.75781543633e-07\n"
     ]
    }
   ],
   "source": [
    "print(\"p-value =\", p/2)"
   ]
  }
 ],
 "metadata": {
  "kernelspec": {
   "display_name": "Python 3",
   "language": "python",
   "name": "python3"
  },
  "language_info": {
   "codemirror_mode": {
    "name": "ipython",
    "version": 3
   },
   "file_extension": ".py",
   "mimetype": "text/x-python",
   "name": "python",
   "nbconvert_exporter": "python",
   "pygments_lexer": "ipython3",
   "version": "3.5.5"
  }
 },
 "nbformat": 4,
 "nbformat_minor": 0
}
