{
 "cells": [
  {
   "cell_type": "code",
   "execution_count": 1,
   "metadata": {
    "collapsed": true
   },
   "outputs": [],
   "source": [
    "# Preliminaries needed for Python and to run R within a Python notebook\n",
    "import rpy2.rinterface\n",
    "%load_ext rpy2.ipython "
   ]
  },
  {
   "cell_type": "markdown",
   "metadata": {},
   "source": [
    "## Randomization Test in R"
   ]
  },
  {
   "cell_type": "code",
   "execution_count": 123,
   "metadata": {
    "collapsed": true
   },
   "outputs": [],
   "source": [
    "%%R\n",
    "## Create the function that will perform the test:\n",
    "rand_test <- function(x, y, summary, alternative, Nsim){\n",
    "  n1 <- length(x)\n",
    "  n2 <- length(y)\n",
    "  if(summary == \"mean\"){\n",
    "    t <- mean(x) - mean(y)\n",
    "  }else if(summary == \"median\"){\n",
    "    t <- median(x) - median(y)\n",
    "  }\n",
    "  comb <- c(x, y)\n",
    "  t_star <- rep(0, Nsim)\n",
    "  for(i in 1:Nsim){\n",
    "    s <- sample(x = comb, size = length(comb), replace = F)\n",
    "    x_star <- s[1:n1]\n",
    "    y_star <- s[(n1+1):length(comb)]\n",
    "    if(summary == \"mean\"){\n",
    "      t_star[i] <- mean(x_star) - mean(y_star)  \n",
    "    }else if(summary == \"median\"){\n",
    "      t_star[i] <- median(x_star) - median(y_star)  \n",
    "    } \n",
    "  }\n",
    "  if(alternative == \"two-sided\"){\n",
    "    p_value = sum(t_star >= abs(t))/Nsim + sum(t_star <= -abs(t))/Nsim\n",
    "  }else if(alternative == \"less\"){\n",
    "    p_value = sum(t_star <= t)/Nsim\n",
    "  }else if(alternative == \"greater\"){\n",
    "    p_value = sum(t_star >= t)/Nsim\n",
    "  }\n",
    "  print(paste(\"The p-value is \", p_value, \".\", sep = \"\"))\n",
    "}"
   ]
  },
  {
   "cell_type": "markdown",
   "metadata": {},
   "source": [
    "Consider the Pokemon Go Example data:"
   ]
  },
  {
   "cell_type": "code",
   "execution_count": 118,
   "metadata": {
    "collapsed": false
   },
   "outputs": [
    {
     "data": {
      "image/png": "[encoded data removed]"
     },
     "metadata": {},
     "output_type": "display_data"
    }
   ],
   "source": [
    "%%R\n",
    "## Read in the data\n",
    "setwd(\"/Users/ntstevens/Dropbox/Data Institute/DOE Certificate/Week 4/\")\n",
    "pokemon <- read.csv(file = \"pokemongo.csv\", header = T)\n",
    "\n",
    "## Look at the data\n",
    "par(mfrow = c(3,1))\n",
    "hist(pokemon$control, xlim = c(0,50), breaks = seq(0,50,5), xlab = \"Dollars Spent\", main = \"Control Condition\")\n",
    "abline(v = c(mean(pokemon$control), median(pokemon$control)), col = c(\"red\", \"darkgreen\"), lwd = 2)\n",
    "legend(\"topright\", legend = c(\"Mean\", \"Median\"), lty = 1, lwd = 2, col = c(\"red\", \"darkgreen\"))\n",
    "hist(pokemon$freecoins, xlim = c(0,50), breaks = seq(0,50,5), xlab = \"Dollars Spent\", main = \"Free Coin Condition\")\n",
    "abline(v = c(mean(pokemon$freecoins), median(pokemon$freecoins)), col = c(\"red\", \"darkgreen\"), lwd = 2)\n",
    "hist(pokemon$discount, xlim = c(0,50), breaks = seq(0,50,5), xlab = \"Dollars Spent\", main = \"Discount Condition\")\n",
    "abline(v = c(mean(pokemon$discount), median(pokemon$discount)), col = c(\"red\", \"darkgreen\"), lwd = 2)"
   ]
  },
  {
   "cell_type": "markdown",
   "metadata": {},
   "source": [
    "### Compare Means"
   ]
  },
  {
   "cell_type": "code",
   "execution_count": 124,
   "metadata": {
    "collapsed": false
   },
   "outputs": [
    {
     "data": {
      "text/plain": [
       "[1] \"The p-value is 0.18751.\"\n"
      ]
     },
     "metadata": {},
     "output_type": "display_data"
    }
   ],
   "source": [
    "%%R\n",
    "## Compare Conditions 1 and 2 \n",
    "rand_test(x = pokemon$control, y = pokemon$freecoins, summary = \"mean\", alternative = \"two-sided\", Nsim = 100000)"
   ]
  },
  {
   "cell_type": "code",
   "execution_count": 125,
   "metadata": {
    "collapsed": false
   },
   "outputs": [
    {
     "data": {
      "text/plain": [
       "[1] \"The p-value is 0.02631.\"\n"
      ]
     },
     "metadata": {},
     "output_type": "display_data"
    }
   ],
   "source": [
    "%%R\n",
    "## Compare Conditions 1 and 3 \n",
    "rand_test(x = pokemon$control, y = pokemon$discount, summary = \"mean\", alternative = \"two-sided\", Nsim = 100000)"
   ]
  },
  {
   "cell_type": "code",
   "execution_count": 126,
   "metadata": {
    "collapsed": false
   },
   "outputs": [
    {
     "data": {
      "text/plain": [
       "[1] \"The p-value is 0.00096.\"\n"
      ]
     },
     "metadata": {},
     "output_type": "display_data"
    }
   ],
   "source": [
    "%%R\n",
    "## Compare Conditions 2 and 3 \n",
    "rand_test(x = pokemon$freecoins, y = pokemon$discount, summary = \"mean\", alternative = \"two-sided\", Nsim = 100000)"
   ]
  },
  {
   "cell_type": "markdown",
   "metadata": {},
   "source": [
    "### Compare Medians"
   ]
  },
  {
   "cell_type": "code",
   "execution_count": 128,
   "metadata": {
    "collapsed": false
   },
   "outputs": [
    {
     "data": {
      "text/plain": [
       "[1] \"The p-value is 0.57197.\"\n"
      ]
     },
     "metadata": {},
     "output_type": "display_data"
    }
   ],
   "source": [
    "%%R\n",
    "## Compare Conditions 1 and 2 \n",
    "rand_test(x = pokemon$control, y = pokemon$freecoins, summary = \"median\", alternative = \"two-sided\", Nsim = 100000)"
   ]
  },
  {
   "cell_type": "code",
   "execution_count": 129,
   "metadata": {
    "collapsed": false
   },
   "outputs": [
    {
     "data": {
      "text/plain": [
       "[1] \"The p-value is 0.79151.\"\n"
      ]
     },
     "metadata": {},
     "output_type": "display_data"
    }
   ],
   "source": [
    "%%R\n",
    "## Compare Conditions 1 and 3 \n",
    "rand_test(x = pokemon$control, y = pokemon$discount, summary = \"median\", alternative = \"two-sided\", Nsim = 100000)"
   ]
  },
  {
   "cell_type": "code",
   "execution_count": 130,
   "metadata": {
    "collapsed": false
   },
   "outputs": [
    {
     "data": {
      "text/plain": [
       "[1] \"The p-value is 0.2523.\"\n"
      ]
     },
     "metadata": {},
     "output_type": "display_data"
    }
   ],
   "source": [
    "%%R\n",
    "## Compare Conditions 2 and 3 \n",
    "rand_test(x = pokemon$freecoins, y = pokemon$discount, summary = \"median\", alternative = \"two-sided\", Nsim = 100000)"
   ]
  },
  {
   "cell_type": "markdown",
   "metadata": {},
   "source": [
    "## Randomization Test in Python"
   ]
  },
  {
   "cell_type": "code",
   "execution_count": 162,
   "metadata": {
    "collapsed": false
   },
   "outputs": [],
   "source": [
    "def rand_test(x, y, summary, alternative, Nsim):\n",
    "    n1 = len(x)\n",
    "    n2 = len(y)\n",
    "    if summary == 'mean':\n",
    "        t = np.mean(x) - np.mean(y)\n",
    "    elif summary == 'median':\n",
    "        t = np.median(x) - np.median(y)\n",
    "    comb = np.concatenate((x,y))\n",
    "    t_star = np.zeros(Nsim, dtype = int)\n",
    "    for i in range(Nsim):\n",
    "        s = np.random.choice(comb, size = len(comb), replace = False) \n",
    "        x_star = s[:len(s)//2]\n",
    "        y_star = s[len(s)//2:]\n",
    "        if summary == 'mean':\n",
    "            t_star[i] = np.mean(x_star) - np.mean(y_star)\n",
    "        elif summary == 'median':\n",
    "            t_star[i] = np.median(x_star) - np.median(y_star)\n",
    "    if alternative == 'two-sided':\n",
    "        p_value = np.sum(t_star >= np.abs(t))/Nsim + np.sum(t_star <= -np.abs(t))/Nsim\n",
    "    elif alternative == 'less':\n",
    "        p_value = np.sum(t_star <= t)/Nsim\n",
    "    elif alternative == 'greater':\n",
    "        p_value = np.sum(t_star >= t)/Nsim\n",
    "    print(\"The p-value is\", p_value)"
   ]
  },
  {
   "cell_type": "markdown",
   "metadata": {},
   "source": [
    "Consider the Pokemon Go Example data:"
   ]
  },
  {
   "cell_type": "code",
   "execution_count": 170,
   "metadata": {
    "collapsed": false
   },
   "outputs": [
    {
     "data": {
      "text/plain": [
       "Text(24.5,0.5,'Frequency')"
      ]
     },
     "execution_count": 170,
     "metadata": {},
     "output_type": "execute_result"
    },
    {
     "data": {
      "image/png": "[encoded data removed]",
      "text/plain": [
       "<Figure size 600x400 with 3 Axes>"
      ]
     },
     "metadata": {},
     "output_type": "display_data"
    }
   ],
   "source": [
    "## Import necessary packages\n",
    "import os\n",
    "import pandas as pd\n",
    "import matplotlib.pyplot as plt\n",
    "%matplotlib inline\n",
    "import numpy as np\n",
    "\n",
    "## Change working directory\n",
    "os.chdir(\"/Users/ntstevens/Dropbox/Data Institute/DOE Certificate/Week 4\")\n",
    "\n",
    "## Read in the data\n",
    "data = pd.read_csv('pokemongo.csv')\n",
    "cond1 = data[\"control\"]\n",
    "cond2 = data[\"freecoins\"]\n",
    "cond3 = data[\"discount\"]\n",
    "\n",
    "## Plot the data\n",
    "plt.subplot(3,1,1)\n",
    "plt.tight_layout()\n",
    "plt.hist(cond1, range = [0,50], color = \"white\", edgecolor = \"black\")\n",
    "plt.axvline(x = np.mean(cond1), color = \"red\", linewidth = 2)\n",
    "plt.axvline(x = np.median(cond1), color = \"green\", linewidth = 2)\n",
    "plt.title(\"Control Condition\")\n",
    "plt.xlabel(\"Dollars Spent\")\n",
    "plt.ylabel(\"Frequency\")\n",
    "plt.subplot(3,1,2)\n",
    "plt.tight_layout()\n",
    "plt.hist(cond2, range = [0,50], color = \"white\", edgecolor = \"black\")\n",
    "plt.axvline(x = np.mean(cond2), color = \"red\", linewidth = 2)\n",
    "plt.axvline(x = np.median(cond2), color = \"green\", linewidth = 2)\n",
    "plt.title(\"Free Coin Condition\")\n",
    "plt.xlabel(\"Dollars Spent\")\n",
    "plt.ylabel(\"Frequency\")\n",
    "plt.subplot(3,1,3)\n",
    "plt.tight_layout()\n",
    "plt.hist(cond3, range = [0,50], color = \"white\", edgecolor = \"black\")\n",
    "plt.axvline(x = np.mean(cond3), color = \"red\", linewidth = 2)\n",
    "plt.axvline(x = np.median(cond3), color = \"green\", linewidth = 2)\n",
    "plt.title(\"Discount Condition\")\n",
    "plt.xlabel(\"Dollars Spent\")\n",
    "plt.ylabel(\"Frequency\")"
   ]
  },
  {
   "cell_type": "markdown",
   "metadata": {},
   "source": [
    "### Compare Means"
   ]
  },
  {
   "cell_type": "code",
   "execution_count": 163,
   "metadata": {
    "collapsed": false
   },
   "outputs": [
    {
     "name": "stdout",
     "output_type": "stream",
     "text": [
      "The p-value is 0.02656\n"
     ]
    }
   ],
   "source": [
    "## Compare Conditions 1 and 2 \n",
    "rand_test(x = cond1, y = cond2, summary = \"mean\", alternative = \"two-sided\", Nsim = 100000)"
   ]
  },
  {
   "cell_type": "code",
   "execution_count": 164,
   "metadata": {
    "collapsed": false
   },
   "outputs": [
    {
     "name": "stdout",
     "output_type": "stream",
     "text": [
      "The p-value is 0.0116\n"
     ]
    }
   ],
   "source": [
    "## Compare Conditions 1 and 3 \n",
    "rand_test(x = cond1, y = cond3, summary = \"mean\", alternative = \"two-sided\", Nsim = 100000)"
   ]
  },
  {
   "cell_type": "code",
   "execution_count": 165,
   "metadata": {
    "collapsed": false
   },
   "outputs": [
    {
     "name": "stdout",
     "output_type": "stream",
     "text": [
      "The p-value is 0.00078\n"
     ]
    }
   ],
   "source": [
    "## Compare Conditions 2 and 3 \n",
    "rand_test(x = cond2, y = cond3, summary = \"mean\", alternative = \"two-sided\", Nsim = 100000)"
   ]
  },
  {
   "cell_type": "markdown",
   "metadata": {},
   "source": [
    "### Compare Medians"
   ]
  },
  {
   "cell_type": "code",
   "execution_count": 166,
   "metadata": {
    "collapsed": false
   },
   "outputs": [
    {
     "name": "stdout",
     "output_type": "stream",
     "text": [
      "The p-value is 0.57155\n"
     ]
    }
   ],
   "source": [
    "## Compare Conditions 1 and 2 \n",
    "rand_test(x = cond1, y = cond2, summary = \"median\", alternative = \"two-sided\", Nsim = 100000)"
   ]
  },
  {
   "cell_type": "code",
   "execution_count": 167,
   "metadata": {
    "collapsed": false
   },
   "outputs": [
    {
     "name": "stdout",
     "output_type": "stream",
     "text": [
      "The p-value is 0.79121\n"
     ]
    }
   ],
   "source": [
    "## Compare Conditions 1 and 3 \n",
    "rand_test(x = cond1, y = cond3, summary = \"median\", alternative = \"two-sided\", Nsim = 100000)"
   ]
  },
  {
   "cell_type": "code",
   "execution_count": 168,
   "metadata": {
    "collapsed": false
   },
   "outputs": [
    {
     "name": "stdout",
     "output_type": "stream",
     "text": [
      "The p-value is 0.24947\n"
     ]
    }
   ],
   "source": [
    "## Compare Conditions 2 and 3 \n",
    "rand_test(x = cond2, y = cond3, summary = \"median\", alternative = \"two-sided\", Nsim = 100000)"
   ]
  }
 ],
 "metadata": {
  "kernelspec": {
   "display_name": "Python 3",
   "language": "python",
   "name": "python3"
  },
  "language_info": {
   "codemirror_mode": {
    "name": "ipython",
    "version": 3
   },
   "file_extension": ".py",
   "mimetype": "text/x-python",
   "name": "python",
   "nbconvert_exporter": "python",
   "pygments_lexer": "ipython3",
   "version": "3.5.5"
  }
 },
 "nbformat": 4,
 "nbformat_minor": 0
}
