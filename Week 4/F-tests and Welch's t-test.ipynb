{
 "cells": [
  {
   "cell_type": "code",
   "execution_count": 1,
   "metadata": {
    "collapsed": true
   },
   "outputs": [],
   "source": [
    "# Preliminaries needed for Python and to run R within a Python notebook\n",
    "import rpy2.rinterface\n",
    "%load_ext rpy2.ipython "
   ]
  },
  {
   "cell_type": "markdown",
   "metadata": {},
   "source": [
    "## Revisiting the Instagram Example"
   ]
  },
  {
   "cell_type": "markdown",
   "metadata": {},
   "source": [
    "Last time we performed t-tests to compare the average session duration in each group and we found that there was a significant difference (in fact, a significant increase) in the average session duration of Condition 1 relative to Condition 2.\n",
    "\n",
    "However, we performed these tests without formally checking whether the underlying assumptions were satisfied. Here we will illustrate how to use F-tests to check whether the equal variance assumption is valid, and how to use Welch's t-test if the variances should not be assumed equal."
   ]
  },
  {
   "cell_type": "markdown",
   "metadata": {},
   "source": [
    "## First in R:"
   ]
  },
  {
   "cell_type": "code",
   "execution_count": 2,
   "metadata": {
    "collapsed": false
   },
   "outputs": [
    {
     "data": {
      "image/png": "[encoded data removed]"
     },
     "metadata": {},
     "output_type": "display_data"
    }
   ],
   "source": [
    "%%R\n",
    "## Change working directory\n",
    "setwd(dir = \"/Users/ntstevens/Dropbox/Data Institute/DOE Certificate/Week 3/\")\n",
    "\n",
    "## Read in the data\n",
    "data <- read.csv(file = \"instagram.csv\", header = T)\n",
    "cond1 <- data$Condition_1\n",
    "cond2 <- data$Condition_2\n",
    "\n",
    "## Plot the data\n",
    "par(mfrow=c(2,1))\n",
    "xmin <- min(min(cond1), min(cond2))\n",
    "xmax <- max(max(cond1), max(B=cond2))\n",
    "hist(cond1, xlim = c(xmin, xmax), main = \"Minutes Engaged\", xlab = \"Condition 1\")\n",
    "abline(v = mean(cond1), col = \"red\", lwd = 2)\n",
    "hist(cond2, xlim = c(xmin, xmax), main = \"\", xlab = \"Condition 2\")\n",
    "abline(v = mean(cond2), col = \"red\", lwd = 2)"
   ]
  },
  {
   "cell_type": "markdown",
   "metadata": {},
   "source": [
    "With an F-test let's formally test\n",
    "$$H_0: \\sigma^2_1 = \\sigma^2_2 \\text{ vs. } H_A: \\sigma^2_1 \\neq \\sigma^2_2$$"
   ]
  },
  {
   "cell_type": "code",
   "execution_count": 4,
   "metadata": {
    "collapsed": false
   },
   "outputs": [
    {
     "data": {
      "text/plain": [
       "\n",
       "\tF test to compare two variances\n",
       "\n",
       "data:  cond1 and cond2\n",
       "F = 0.9376, num df = 499, denom df = 499, p-value = 0.472\n",
       "alternative hypothesis: true ratio of variances is not equal to 1\n",
       "95 percent confidence interval:\n",
       " 0.7865429 1.1176781\n",
       "sample estimates:\n",
       "ratio of variances \n",
       "         0.9376042 \n",
       "\n"
      ]
     },
     "metadata": {},
     "output_type": "display_data"
    }
   ],
   "source": [
    "%%R\n",
    "var.test(x = cond1, y = cond2)"
   ]
  },
  {
   "cell_type": "markdown",
   "metadata": {},
   "source": [
    "This p-value is very large, and so we do not reject the null hypothesis meaning that the equal variance assumption is fine. As such, the Student's t-test that we performed last time was valid.\n",
    "\n",
    "However, for purposes of illustration let's imagine that we rejected $H_0$ and had to perform Welch's t-test. Below is the code for each of the three possible hypotheses that could be tested. Note that the code is very similar to what was used before expect that we set `var.equal = FALSE`.\n",
    "\n",
    "$$H_0: \\mu_1 = \\mu_2 \\text{ vs. } H_A: \\mu_1 \\neq \\mu_2$$"
   ]
  },
  {
   "cell_type": "code",
   "execution_count": 7,
   "metadata": {
    "collapsed": false
   },
   "outputs": [
    {
     "data": {
      "text/plain": [
       "\n",
       "\tWelch Two Sample t-test\n",
       "\n",
       "data:  cond1 and cond2\n",
       "t = 30.101, df = 996.97, p-value < 2.2e-16\n",
       "alternative hypothesis: true difference in means is not equal to 0\n",
       "95 percent confidence interval:\n",
       " 1.742853 1.985939\n",
       "sample estimates:\n",
       "mean of x mean of y \n",
       " 4.916201  3.051804 \n",
       "\n"
      ]
     },
     "metadata": {},
     "output_type": "display_data"
    }
   ],
   "source": [
    "%%R\n",
    "t.test(x = cond1, y = cond2, alternative = \"two.sided\", var.equal = FALSE)"
   ]
  },
  {
   "cell_type": "markdown",
   "metadata": {},
   "source": [
    "$$H_0: \\mu_1 \\leq \\mu_2 \\text{ vs. } H_A: \\mu_1 > \\mu_2$$"
   ]
  },
  {
   "cell_type": "code",
   "execution_count": 8,
   "metadata": {
    "collapsed": false
   },
   "outputs": [
    {
     "data": {
      "text/plain": [
       "\n",
       "\tWelch Two Sample t-test\n",
       "\n",
       "data:  cond1 and cond2\n",
       "t = 30.101, df = 996.97, p-value < 2.2e-16\n",
       "alternative hypothesis: true difference in means is greater than 0\n",
       "95 percent confidence interval:\n",
       " 1.762423      Inf\n",
       "sample estimates:\n",
       "mean of x mean of y \n",
       " 4.916201  3.051804 \n",
       "\n"
      ]
     },
     "metadata": {},
     "output_type": "display_data"
    }
   ],
   "source": [
    "%%R\n",
    "t.test(x = cond1, y = cond2, alternative = \"greater\", var.equal = FALSE)"
   ]
  },
  {
   "cell_type": "markdown",
   "metadata": {},
   "source": [
    "$$H_0: \\mu_1 \\geq \\mu_2 \\text{ vs. } H_A: \\mu_1 < \\mu_2$$"
   ]
  },
  {
   "cell_type": "code",
   "execution_count": 10,
   "metadata": {
    "collapsed": false
   },
   "outputs": [
    {
     "data": {
      "text/plain": [
       "\n",
       "\tWelch Two Sample t-test\n",
       "\n",
       "data:  cond1 and cond2\n",
       "t = 30.101, df = 996.97, p-value = 1\n",
       "alternative hypothesis: true difference in means is less than 0\n",
       "95 percent confidence interval:\n",
       "     -Inf 1.966369\n",
       "sample estimates:\n",
       "mean of x mean of y \n",
       " 4.916201  3.051804 \n",
       "\n"
      ]
     },
     "metadata": {},
     "output_type": "display_data"
    }
   ],
   "source": [
    "%%R\n",
    "t.test(x = cond1, y = cond2, alternative = \"less\", var.equal = FALSE)"
   ]
  },
  {
   "cell_type": "markdown",
   "metadata": {},
   "source": [
    "## In Python:"
   ]
  },
  {
   "cell_type": "code",
   "execution_count": 11,
   "metadata": {
    "collapsed": false
   },
   "outputs": [
    {
     "data": {
      "text/plain": [
       "Text(0,0.5,'Frequency')"
      ]
     },
     "execution_count": 11,
     "metadata": {},
     "output_type": "execute_result"
    },
    {
     "data": {
      "image/png": "[encoded data removed]",
      "text/plain": [
       "<Figure size 600x400 with 2 Axes>"
      ]
     },
     "metadata": {},
     "output_type": "display_data"
    }
   ],
   "source": [
    "## Import necessary packages\n",
    "import os\n",
    "import pandas as pd\n",
    "import matplotlib.pyplot as plt\n",
    "%matplotlib inline\n",
    "import numpy as np\n",
    "import scipy.stats as sp\n",
    "\n",
    "## Change working directory\n",
    "os.chdir(\"/Users/ntstevens/Dropbox/Data Institute/DOE Certificate/Week 3\")\n",
    "\n",
    "## Read in the data\n",
    "data = pd.read_csv('instagram.csv')\n",
    "cond1 = data[\"Condition_1\"]\n",
    "cond2 = data[\"Condition_2\"]\n",
    "\n",
    "## Plot the data\n",
    "plt.subplot(2,1,1)\n",
    "x_lo = np.floor(np.min([np.min(cond1), np.min(cond2)]))\n",
    "x_hi = np.ceil(np.max([np.max(cond1), np.max(cond2)]))\n",
    "plt.hist(cond1, range = [x_lo, x_hi], color = \"white\", edgecolor = \"black\")\n",
    "plt.axvline(x= np.mean(cond1), color = \"red\", linewidth = 2)\n",
    "plt.title(\"Minutes Engaged\")\n",
    "plt.xlabel(\"Condition 1\")\n",
    "plt.ylabel(\"Frequency\")\n",
    "plt.subplot(2,1,2)\n",
    "plt.hist(cond2, range = [x_lo, x_hi], color = \"white\", edgecolor = \"black\")\n",
    "plt.axvline(x= np.mean(cond2), color = \"red\", linewidth = 2)\n",
    "plt.xlabel(\"Condition 2\")\n",
    "plt.ylabel(\"Frequency\")"
   ]
  },
  {
   "cell_type": "markdown",
   "metadata": {},
   "source": [
    "I have not yet been able to find a function that automates the F-test for variances in `scipy`, `statsmodels` or `sklearn`. As such, I will illustrate below how to do this manually.\n",
    "\n",
    "First we will calculate the test statistics, which is the ratio of sample variances computed in each condition. The p-value is then based entirely on this value and the F distribution with $n_{1}-1$ and $n_{2}-1$ degrees of freedom."
   ]
  },
  {
   "cell_type": "code",
   "execution_count": 20,
   "metadata": {
    "collapsed": false
   },
   "outputs": [
    {
     "name": "stdout",
     "output_type": "stream",
     "text": [
      "test statistic = 0.9376042331476527\n"
     ]
    }
   ],
   "source": [
    "## Calculate test statistic\n",
    "n1 = np.size(cond1)\n",
    "n2 = np.size(cond2)\n",
    "t = (n1*np.var(cond1)/(n1-1)) / (n2*np.var(cond2)/(n2-1))\n",
    "print(\"test statistic =\", t)"
   ]
  },
  {
   "cell_type": "markdown",
   "metadata": {},
   "source": [
    "$$H_0: \\sigma^2_1 = \\sigma^2_2 \\text{ vs. } H_A: \\sigma^2_1 \\neq \\sigma^2_2$$"
   ]
  },
  {
   "cell_type": "code",
   "execution_count": 21,
   "metadata": {
    "collapsed": false
   },
   "outputs": [
    {
     "name": "stdout",
     "output_type": "stream",
     "text": [
      "p-value = 0.472032265196\n"
     ]
    }
   ],
   "source": [
    "p_val = (1-sp.f.cdf(1/t, dfn = n1-1, dfd = n2-1)) + sp.f.cdf(t, dfn = n1-1, dfd = n2-1)\n",
    "print(\"p-value =\", p_val)"
   ]
  },
  {
   "cell_type": "markdown",
   "metadata": {},
   "source": [
    "This yields the same p-value as we found in R using the `var.test()` function.\n",
    "\n",
    "Now for the Welch's tests. Here we simply set `equal_var = False` in the `ttest_ind()` function. Recall that this function only calculates the p-value associated with the two sided test. Thus, we must start there and calculate one-sided p-values accordingly if those tests are of interest."
   ]
  },
  {
   "cell_type": "code",
   "execution_count": 24,
   "metadata": {
    "collapsed": false
   },
   "outputs": [
    {
     "name": "stdout",
     "output_type": "stream",
     "text": [
      "30.1012820204\n",
      "4.0159625287e-142\n"
     ]
    }
   ],
   "source": [
    "t, p = sp.ttest_ind(cond1, cond2, equal_var = False)\n",
    "print(t)\n",
    "print(p)"
   ]
  },
  {
   "cell_type": "markdown",
   "metadata": {},
   "source": [
    "$$H_0: \\mu_1 = \\mu_2 \\text{ vs. } H_A: \\mu_1 \\neq \\mu_2$$"
   ]
  },
  {
   "cell_type": "code",
   "execution_count": 25,
   "metadata": {
    "collapsed": false
   },
   "outputs": [
    {
     "name": "stdout",
     "output_type": "stream",
     "text": [
      "p-value = 4.0159625287e-142\n"
     ]
    }
   ],
   "source": [
    "print(\"p-value =\", p)"
   ]
  },
  {
   "cell_type": "markdown",
   "metadata": {},
   "source": [
    "$$H_0: \\mu_1 \\leq \\mu_2 \\text{ vs. } H_A: \\mu_1 > \\mu_2$$"
   ]
  },
  {
   "cell_type": "code",
   "execution_count": 26,
   "metadata": {
    "collapsed": false
   },
   "outputs": [
    {
     "name": "stdout",
     "output_type": "stream",
     "text": [
      "p-value = 2.00798126435e-142\n"
     ]
    }
   ],
   "source": [
    "print(\"p-value =\", p/2)"
   ]
  },
  {
   "cell_type": "markdown",
   "metadata": {},
   "source": [
    "$$H_0: \\mu_1 \\geq \\mu_2 \\text{ vs. } H_A: \\mu_1 < \\mu_2$$"
   ]
  },
  {
   "cell_type": "code",
   "execution_count": 27,
   "metadata": {
    "collapsed": false
   },
   "outputs": [
    {
     "name": "stdout",
     "output_type": "stream",
     "text": [
      "p-value = 1.0\n"
     ]
    }
   ],
   "source": [
    "print(\"p-value =\", 1-p/2)"
   ]
  }
 ],
 "metadata": {
  "kernelspec": {
   "display_name": "Python 3",
   "language": "python",
   "name": "python3"
  },
  "language_info": {
   "codemirror_mode": {
    "name": "ipython",
    "version": 3
   },
   "file_extension": ".py",
   "mimetype": "text/x-python",
   "name": "python",
   "nbconvert_exporter": "python",
   "pygments_lexer": "ipython3",
   "version": "3.5.5"
  }
 },
 "nbformat": 4,
 "nbformat_minor": 0
}
