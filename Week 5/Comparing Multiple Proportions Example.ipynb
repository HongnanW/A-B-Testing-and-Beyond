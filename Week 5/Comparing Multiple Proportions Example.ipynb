{
 "cells": [
  {
   "cell_type": "code",
   "execution_count": 1,
   "metadata": {
    "collapsed": true
   },
   "outputs": [],
   "source": [
    "# Preliminaries needed for Python and to run R within a Python notebook\n",
    "import rpy2.rinterface\n",
    "%load_ext rpy2.ipython "
   ]
  },
  {
   "cell_type": "markdown",
   "metadata": {},
   "source": [
    "## $\\chi^2$-test of Independence to Compare Multiple Proportions"
   ]
  },
  {
   "cell_type": "markdown",
   "metadata": {},
   "source": [
    "Sometimes it is of interest to compare multiple experimental conditions simultaneously. When the metric being compared is a proportion, and a hypotheses of equality is being tested, we may use the $\\chi^2$-test of independence to do so.\n",
    "\n",
    "Symbolically speaking, this is the hypothesis we are testing: $$H_0: \\pi_1 = \\pi_2 = \\cdots = \\pi_m \\text{ vs. } H_A: \\pi_j \\neq \\pi_k \\text{ for some } j \\neq k$$\n",
    "We do so by extending the ordinary two-condition $\\chi^2$-test by constructing a $2 \\times m$ contingency table rather than a $2 \\times 2$ one. As before we compare what is _expected_ with what was _observed_. Below this process is illustrated in both `R` and `Python`. We do this is in the context of the _Nike SB_ example."
   ]
  },
  {
   "cell_type": "markdown",
   "metadata": {},
   "source": [
    "Recall that in this example there were 5 ads and there were respectively 160, 96, 141, 293 and 197 conversions for each of them. The sample size in each condition was respectively 5014, 4971, 5030, 5007 and 4980. The corresponding $2 \\times 5$ contingency table is shown below.\n",
    "\n",
    "|                |  Ad1 |  Ad2 |  Ad3 |  Ad4 |  Ad5 |       |\n",
    "|---------------:|:----:|:----:|:----:|:----:|:----:|:-----:|\n",
    "|     Conversion |  160 |  95  |  141 |  293 |  197 |  886  |\n",
    "| Non-Conversion | 4854 | 4876 | 4889 | 4714 | 4783 | 24116 |\n",
    "|                | 5014 | 4971 | 5030 | 5007 | 4980 | 25002 | "
   ]
  },
  {
   "cell_type": "markdown",
   "metadata": {},
   "source": [
    "### First in Python\n",
    "Like with the $2 \\times 2$ case we use the `chi2_contingency()` function in the `scipy` package. But this time we input the body (i.e., numbers of conversions and non-conversions) associated with our $2 \\times 5$ table shown above."
   ]
  },
  {
   "cell_type": "code",
   "execution_count": 9,
   "metadata": {
    "collapsed": false
   },
   "outputs": [
    {
     "name": "stdout",
     "output_type": "stream",
     "text": [
      "Test statistic = 129.168563084 , df = 4 , p-value = 5.86411763914e-27\n"
     ]
    }
   ],
   "source": [
    "## Import necessary packages\n",
    "import scipy.stats as sp\n",
    "\n",
    "## Perform the test\n",
    "data_nike = [[160, 95, 141, 293, 197], [4854, 4876, 4889, 4714, 4783]]\n",
    "t, p, df, exp = sp.chi2_contingency(data_nike)\n",
    "print(\"Test statistic =\", t, \", df =\", df, \", p-value =\", p)"
   ]
  },
  {
   "cell_type": "markdown",
   "metadata": {},
   "source": [
    "This is an extremely large test statistic value which, in the context of a $\\chi^2$-distribution with 4 degrees of freedom yields a p-value of $5.86 \\times 10^{-27}$. As such, we reject the null hypothesis and conclude that the conversion rates for each of the 5 ads is not the same."
   ]
  },
  {
   "cell_type": "markdown",
   "metadata": {},
   "source": [
    "### Next in R"
   ]
  },
  {
   "cell_type": "markdown",
   "metadata": {},
   "source": [
    "As in the $2 \\times 2$ case we use the `prop.test()` function. This time we input the number of conversions in each condition and the sample size in each condition (i.e., the first and third rows of numbers from the table above)."
   ]
  },
  {
   "cell_type": "code",
   "execution_count": 11,
   "metadata": {
    "collapsed": false
   },
   "outputs": [
    {
     "data": {
      "text/plain": [
       "\n",
       "\t5-sample test for equality of proportions without continuity\n",
       "\tcorrection\n",
       "\n",
       "data:  c(160, 95, 141, 293, 197) out of c(5014, 4971, 5030, 5007, 4980)\n",
       "X-squared = 129.17, df = 4, p-value < 2.2e-16\n",
       "alternative hypothesis: two.sided\n",
       "sample estimates:\n",
       "    prop 1     prop 2     prop 3     prop 4     prop 5 \n",
       "0.03191065 0.01911084 0.02803181 0.05851807 0.03955823 \n",
       "\n"
      ]
     },
     "metadata": {},
     "output_type": "display_data"
    }
   ],
   "source": [
    "%%R\n",
    "## Perform the test\n",
    "prop.test(x = c(160, 95, 141, 293, 197), n = c(5014, 4971, 5030, 5007, 4980))"
   ]
  },
  {
   "cell_type": "markdown",
   "metadata": {},
   "source": [
    "We see that these results agree exactly with what we found in `Python`."
   ]
  }
 ],
 "metadata": {
  "kernelspec": {
   "display_name": "Python 3",
   "language": "python",
   "name": "python3"
  },
  "language_info": {
   "codemirror_mode": {
    "name": "ipython",
    "version": 3
   },
   "file_extension": ".py",
   "mimetype": "text/x-python",
   "name": "python",
   "nbconvert_exporter": "python",
   "pygments_lexer": "ipython3",
   "version": "3.5.5"
  }
 },
 "nbformat": 4,
 "nbformat_minor": 0
}
