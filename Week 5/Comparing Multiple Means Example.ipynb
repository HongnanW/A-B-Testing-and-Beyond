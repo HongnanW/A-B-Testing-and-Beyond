{
 "cells": [
  {
   "cell_type": "code",
   "execution_count": 20,
   "metadata": {
    "collapsed": true
   },
   "outputs": [],
   "source": [
    "# Preliminaries needed for Python and to run R within a Python notebook\n",
    "import rpy2.rinterface\n",
    "%load_ext rpy2.ipython "
   ]
  },
  {
   "cell_type": "markdown",
   "metadata": {},
   "source": [
    "## Linear Regression \"Overall Significance of Significance\" to Compare Multiple Means"
   ]
  },
  {
   "cell_type": "markdown",
   "metadata": {},
   "source": [
    "Sometimes it is of interest to compare multiple experimental conditions simultaneously. When the metric being compared is a mean, and a hypotheses of equality is being tested, we may use the $F$-test of overall significance in a linear regression to do so.\n",
    "\n",
    "Symbolically speaking, this is the hypothesis we are testing: $$H_0: \\mu_1 = \\mu_2 = \\cdots = \\mu_m \\text{ vs. } H_A: \\mu_j \\neq \\mu_k \\text{ for some } j \\neq k$$\n",
    "We do so by constructing an ordinary linear regression with using indicator (dummy) variables that indicate which of the $m$ conditions a particular observation comes from. Technically speaking, for $m$ experimental conditions we need $m-1$ indicator variables. Below this process is illustrated in both `R` and `Python`. We do this is in the context of the _Candy Crush_ example."
   ]
  },
  {
   "cell_type": "markdown",
   "metadata": {},
   "source": [
    "### First in Python"
   ]
  },
  {
   "cell_type": "code",
   "execution_count": 3,
   "metadata": {
    "collapsed": false
   },
   "outputs": [],
   "source": [
    "## Import necessary packages\n",
    "import os\n",
    "import pandas as pd\n",
    "import matplotlib.pyplot as plt\n",
    "%matplotlib inline\n",
    "import statsmodels.formula.api as smf\n",
    "\n",
    "## Change working directory\n",
    "os.chdir(\"/Users/ntstevens/Dropbox/Data Institute/DOE Certificate/Week 5\")\n",
    "\n",
    "## Read in the data\n",
    "candy = pd.read_csv('candycrush.csv')"
   ]
  },
  {
   "cell_type": "markdown",
   "metadata": {},
   "source": [
    "Let's first look at the data:"
   ]
  },
  {
   "cell_type": "code",
   "execution_count": 4,
   "metadata": {
    "collapsed": false
   },
   "outputs": [
    {
     "data": {
      "image/png": "[encoded data removed]",
      "text/plain": [
       "<Figure size 600x400 with 1 Axes>"
      ]
     },
     "metadata": {},
     "output_type": "display_data"
    }
   ],
   "source": [
    "## Plot the data\n",
    "y_1 = candy[candy[\"booster\"]==1][\"time\"]\n",
    "y_2 = candy[candy[\"booster\"]==2][\"time\"]\n",
    "y_3 = candy[candy[\"booster\"]==3][\"time\"]\n",
    "y_booster = [y_1, y_2, y_3]\n",
    "plt.figure()\n",
    "plt.boxplot(y_booster, labels = [\"Lollipop Hammer\", \"Jelly Fish\", \"Color Bomb\"])\n",
    "plt.xlabel(\"Condition\")\n",
    "plt.ylabel(\"Length of Game Play (minutes)\")\n",
    "plt.show()"
   ]
  },
  {
   "cell_type": "markdown",
   "metadata": {},
   "source": [
    "In the data the booster condition is coded as 1, 2 or 3. In order to ensure `Python` treats this as a categorical variable rather than a numeric variable (by coding it with indicators), we can use the `C()` function as follows:"
   ]
  },
  {
   "cell_type": "code",
   "execution_count": 19,
   "metadata": {
    "collapsed": false
   },
   "outputs": [
    {
     "data": {
      "text/html": [
       "<table class=\"simpletable\">\n",
       "<caption>OLS Regression Results</caption>\n",
       "<tr>\n",
       "  <th>Dep. Variable:</th>          <td>time</td>       <th>  R-squared:         </th> <td>   0.822</td> \n",
       "</tr>\n",
       "<tr>\n",
       "  <th>Model:</th>                   <td>OLS</td>       <th>  Adj. R-squared:    </th> <td>   0.821</td> \n",
       "</tr>\n",
       "<tr>\n",
       "  <th>Method:</th>             <td>Least Squares</td>  <th>  F-statistic:       </th> <td>   851.9</td> \n",
       "</tr>\n",
       "<tr>\n",
       "  <th>Date:</th>             <td>Tue, 02 Oct 2018</td> <th>  Prob (F-statistic):</th> <td>3.28e-139</td>\n",
       "</tr>\n",
       "<tr>\n",
       "  <th>Time:</th>                 <td>19:02:34</td>     <th>  Log-Likelihood:    </th> <td> -509.81</td> \n",
       "</tr>\n",
       "<tr>\n",
       "  <th>No. Observations:</th>      <td>   373</td>      <th>  AIC:               </th> <td>   1026.</td> \n",
       "</tr>\n",
       "<tr>\n",
       "  <th>Df Residuals:</th>          <td>   370</td>      <th>  BIC:               </th> <td>   1037.</td> \n",
       "</tr>\n",
       "<tr>\n",
       "  <th>Df Model:</th>              <td>     2</td>      <th>                     </th>     <td> </td>    \n",
       "</tr>\n",
       "<tr>\n",
       "  <th>Covariance Type:</th>      <td>nonrobust</td>    <th>                     </th>     <td> </td>    \n",
       "</tr>\n",
       "</table>\n",
       "<table class=\"simpletable\">\n",
       "<tr>\n",
       "         <td></td>            <th>coef</th>     <th>std err</th>      <th>t</th>      <th>P>|t|</th> <th>[95.0% Conf. Int.]</th> \n",
       "</tr>\n",
       "<tr>\n",
       "  <th>Intercept</th>       <td>    5.0128</td> <td>    0.087</td> <td>   57.859</td> <td> 0.000</td> <td>    4.842     5.183</td>\n",
       "</tr>\n",
       "<tr>\n",
       "  <th>C(booster)[T.2]</th> <td>    1.1753</td> <td>    0.119</td> <td>    9.851</td> <td> 0.000</td> <td>    0.941     1.410</td>\n",
       "</tr>\n",
       "<tr>\n",
       "  <th>C(booster)[T.3]</th> <td>    4.8828</td> <td>    0.124</td> <td>   39.515</td> <td> 0.000</td> <td>    4.640     5.126</td>\n",
       "</tr>\n",
       "</table>\n",
       "<table class=\"simpletable\">\n",
       "<tr>\n",
       "  <th>Omnibus:</th>       <td> 0.272</td> <th>  Durbin-Watson:     </th> <td>   2.039</td>\n",
       "</tr>\n",
       "<tr>\n",
       "  <th>Prob(Omnibus):</th> <td> 0.873</td> <th>  Jarque-Bera (JB):  </th> <td>   0.392</td>\n",
       "</tr>\n",
       "<tr>\n",
       "  <th>Skew:</th>          <td>-0.039</td> <th>  Prob(JB):          </th> <td>   0.822</td>\n",
       "</tr>\n",
       "<tr>\n",
       "  <th>Kurtosis:</th>      <td> 2.862</td> <th>  Cond. No.          </th> <td>    3.78</td>\n",
       "</tr>\n",
       "</table>"
      ],
      "text/plain": [
       "<class 'statsmodels.iolib.summary.Summary'>\n",
       "\"\"\"\n",
       "                            OLS Regression Results                            \n",
       "==============================================================================\n",
       "Dep. Variable:                   time   R-squared:                       0.822\n",
       "Model:                            OLS   Adj. R-squared:                  0.821\n",
       "Method:                 Least Squares   F-statistic:                     851.9\n",
       "Date:                Tue, 02 Oct 2018   Prob (F-statistic):          3.28e-139\n",
       "Time:                        19:02:34   Log-Likelihood:                -509.81\n",
       "No. Observations:                 373   AIC:                             1026.\n",
       "Df Residuals:                     370   BIC:                             1037.\n",
       "Df Model:                           2                                         \n",
       "Covariance Type:            nonrobust                                         \n",
       "===================================================================================\n",
       "                      coef    std err          t      P>|t|      [95.0% Conf. Int.]\n",
       "-----------------------------------------------------------------------------------\n",
       "Intercept           5.0128      0.087     57.859      0.000         4.842     5.183\n",
       "C(booster)[T.2]     1.1753      0.119      9.851      0.000         0.941     1.410\n",
       "C(booster)[T.3]     4.8828      0.124     39.515      0.000         4.640     5.126\n",
       "==============================================================================\n",
       "Omnibus:                        0.272   Durbin-Watson:                   2.039\n",
       "Prob(Omnibus):                  0.873   Jarque-Bera (JB):                0.392\n",
       "Skew:                          -0.039   Prob(JB):                        0.822\n",
       "Kurtosis:                       2.862   Cond. No.                         3.78\n",
       "==============================================================================\n",
       "\n",
       "Warnings:\n",
       "[1] Standard Errors assume that the covariance matrix of the errors is correctly specified.\n",
       "\"\"\""
      ]
     },
     "execution_count": 19,
     "metadata": {},
     "output_type": "execute_result"
    }
   ],
   "source": [
    "## Perform the test by fitting a linear regression model\n",
    "model = smf.ols('time ~ C(booster)', data = candy).fit()\n",
    "model.summary()"
   ]
  },
  {
   "cell_type": "markdown",
   "metadata": {},
   "source": [
    "The test statistic for this test is calculated to be 851.9 and in the context of a $F$-distribution with 2 and 370 degrees of freedom this value is quite extreme, as evidence by the p-value of $3.28 \\times 10^{-139}$. Thus suggests that there is strong evidence against the null hypothesis, and that the average length of game play is not the same in each of the booster conditions (as was informally evidenced by the boxplots)."
   ]
  },
  {
   "cell_type": "markdown",
   "metadata": {},
   "source": [
    "### Next in R"
   ]
  },
  {
   "cell_type": "code",
   "execution_count": 21,
   "metadata": {
    "collapsed": false
   },
   "outputs": [],
   "source": [
    "%%R\n",
    "## Change working directory\n",
    "setwd(dir = \"/Users/ntstevens/Dropbox/Data Institute/DOE Certificate/Week 5/\")\n",
    "\n",
    "## Read in the data\n",
    "candy <- read.csv(file = \"candycrush.csv\", header = T)"
   ]
  },
  {
   "cell_type": "markdown",
   "metadata": {},
   "source": [
    "Again, let's look at the data:"
   ]
  },
  {
   "cell_type": "code",
   "execution_count": 22,
   "metadata": {
    "collapsed": false
   },
   "outputs": [
    {
     "data": {
      "image/png": "[encoded data removed]"
     },
     "metadata": {},
     "output_type": "display_data"
    }
   ],
   "source": [
    "%%R\n",
    "## Plot the data\n",
    "boxplot(time ~ booster, data = candy, xaxt = \"n\", ylab = \"Length of Game Play (minutes)\", xlab = \"Condition\")\n",
    "axis(side = 1, at = c(1,2,3), labels = c(\"Lollipop Hammer\", \"Jelly Fish\", \"Color Bomb\"))"
   ]
  },
  {
   "cell_type": "markdown",
   "metadata": {},
   "source": [
    "To force `R` to treat `booster` as a categorical variable rather than a numeric variable we can use the `factor()` function as follows:"
   ]
  },
  {
   "cell_type": "code",
   "execution_count": 23,
   "metadata": {
    "collapsed": false
   },
   "outputs": [
    {
     "data": {
      "text/plain": [
       "\n",
       "Call:\n",
       "lm(formula = time ~ factor(booster), data = candy)\n",
       "\n",
       "Residuals:\n",
       "     Min       1Q   Median       3Q      Max \n",
       "-2.84231 -0.69476  0.02617  0.65326  2.76681 \n",
       "\n",
       "Coefficients:\n",
       "                 Estimate Std. Error t value Pr(>|t|)    \n",
       "(Intercept)       5.01281    0.08664  57.859   <2e-16 ***\n",
       "factor(booster)2  1.17528    0.11931   9.851   <2e-16 ***\n",
       "factor(booster)3  4.88279    0.12357  39.515   <2e-16 ***\n",
       "---\n",
       "Signif. codes:  0 ‘***’ 0.001 ‘**’ 0.01 ‘*’ 0.05 ‘.’ 0.1 ‘ ’ 1\n",
       "\n",
       "Residual standard error: 0.953 on 370 degrees of freedom\n",
       "Multiple R-squared:  0.8216,\tAdjusted R-squared:  0.8206 \n",
       "F-statistic: 851.9 on 2 and 370 DF,  p-value: < 2.2e-16\n",
       "\n"
      ]
     },
     "metadata": {},
     "output_type": "display_data"
    }
   ],
   "source": [
    "%%R\n",
    "## Perform the test by fitting a linear regression model\n",
    "model <- lm(time ~ factor(booster), data = candy)\n",
    "summary(model)"
   ]
  },
  {
   "cell_type": "markdown",
   "metadata": {},
   "source": [
    "The final line of this output is the one we're interested in. We see that the answer matches exactly with what we found in Python."
   ]
  }
 ],
 "metadata": {
  "kernelspec": {
   "display_name": "Python 3",
   "language": "python",
   "name": "python3"
  },
  "language_info": {
   "codemirror_mode": {
    "name": "ipython",
    "version": 3
   },
   "file_extension": ".py",
   "mimetype": "text/x-python",
   "name": "python",
   "nbconvert_exporter": "python",
   "pygments_lexer": "ipython3",
   "version": "3.5.5"
  }
 },
 "nbformat": 4,
 "nbformat_minor": 0
}
